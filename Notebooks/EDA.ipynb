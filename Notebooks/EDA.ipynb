{
 "cells": [
  {
   "cell_type": "code",
   "execution_count": 87,
   "metadata": {},
   "outputs": [],
   "source": [
    "import pandas as pd\n",
    "import streamlit as st\n",
    "import plotly.figure_factory as ff\n",
    "import numpy as np\n",
    "import plotly.io as pio\n",
    "import matplotlib.pyplot as plt\n"
   ]
  },
  {
   "cell_type": "code",
   "execution_count": 88,
   "metadata": {},
   "outputs": [],
   "source": [
    "df_degrees = pd.read_csv('degrees-that-pay-back.csv')"
   ]
  },
  {
   "cell_type": "code",
   "execution_count": 89,
   "metadata": {},
   "outputs": [
    {
     "name": "stdout",
     "output_type": "stream",
     "text": [
      "<class 'pandas.core.frame.DataFrame'>\n",
      "RangeIndex: 50 entries, 0 to 49\n",
      "Data columns (total 8 columns):\n",
      " #   Column                                             Non-Null Count  Dtype  \n",
      "---  ------                                             --------------  -----  \n",
      " 0   Undergraduate Major                                50 non-null     object \n",
      " 1   Starting Median Salary                             50 non-null     object \n",
      " 2   Mid-Career Median Salary                           50 non-null     object \n",
      " 3   Percent change from Starting to Mid-Career Salary  50 non-null     float64\n",
      " 4   Mid-Career 10th Percentile Salary                  50 non-null     object \n",
      " 5   Mid-Career 25th Percentile Salary                  50 non-null     object \n",
      " 6   Mid-Career 75th Percentile Salary                  50 non-null     object \n",
      " 7   Mid-Career 90th Percentile Salary                  50 non-null     object \n",
      "dtypes: float64(1), object(7)\n",
      "memory usage: 3.3+ KB\n"
     ]
    }
   ],
   "source": [
    "df_degrees.info()"
   ]
  },
  {
   "cell_type": "code",
   "execution_count": 90,
   "metadata": {},
   "outputs": [],
   "source": [
    "st.header = (\"Header Text\")"
   ]
  },
  {
   "cell_type": "code",
   "execution_count": 91,
   "metadata": {},
   "outputs": [
    {
     "name": "stdout",
     "output_type": "stream",
     "text": [
      "<class 'pandas.core.frame.DataFrame'>\n",
      "RangeIndex: 50 entries, 0 to 49\n",
      "Data columns (total 8 columns):\n",
      " #   Column                                             Non-Null Count  Dtype  \n",
      "---  ------                                             --------------  -----  \n",
      " 0   Undergraduate Major                                50 non-null     object \n",
      " 1   Starting Median Salary                             50 non-null     object \n",
      " 2   Mid-Career Median Salary                           50 non-null     object \n",
      " 3   Percent change from Starting to Mid-Career Salary  50 non-null     float64\n",
      " 4   Mid-Career 10th Percentile Salary                  50 non-null     object \n",
      " 5   Mid-Career 25th Percentile Salary                  50 non-null     object \n",
      " 6   Mid-Career 75th Percentile Salary                  50 non-null     object \n",
      " 7   Mid-Career 90th Percentile Salary                  50 non-null     object \n",
      "dtypes: float64(1), object(7)\n",
      "memory usage: 3.3+ KB\n"
     ]
    }
   ],
   "source": [
    "df_degrees.info()\n",
    "fig = ff.create_distplot([df_degrees['Percent change from Starting to Mid-Career Salary']], group_labels=['Test'])"
   ]
  },
  {
   "cell_type": "code",
   "execution_count": 96,
   "metadata": {},
   "outputs": [],
   "source": [
    "fig2 = ff.create_distplot([df_degrees['Percent change from Starting to Mid-Career Salary']], group_labels=['Test2'])"
   ]
  },
  {
   "cell_type": "code",
   "execution_count": 97,
   "metadata": {},
   "outputs": [
    {
     "data": {
      "text/plain": [
       "<bound method CheckboxMixin.checkbox of DeltaGenerator()>"
      ]
     },
     "execution_count": 97,
     "metadata": {},
     "output_type": "execute_result"
    }
   ],
   "source": [
    "st.checkbox"
   ]
  },
  {
   "cell_type": "code",
   "execution_count": null,
   "metadata": {},
   "outputs": [],
   "source": []
  }
 ],
 "metadata": {
  "kernelspec": {
   "display_name": "Python 3",
   "language": "python",
   "name": "python3"
  },
  "language_info": {
   "codemirror_mode": {
    "name": "ipython",
    "version": 3
   },
   "file_extension": ".py",
   "mimetype": "text/x-python",
   "name": "python",
   "nbconvert_exporter": "python",
   "pygments_lexer": "ipython3",
   "version": "3.11.9"
  }
 },
 "nbformat": 4,
 "nbformat_minor": 2
}
